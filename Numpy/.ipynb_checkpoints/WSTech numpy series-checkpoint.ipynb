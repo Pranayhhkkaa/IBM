{
 "cells": [
  {
   "cell_type": "markdown",
   "id": "1c425b85",
   "metadata": {},
   "source": [
    "# 1st class"
   ]
  },
  {
   "cell_type": "code",
   "execution_count": 1,
   "id": "80e4258d",
   "metadata": {},
   "outputs": [],
   "source": [
    "import numpy as np"
   ]
  },
  {
   "cell_type": "code",
   "execution_count": 5,
   "id": "acf6c6e3",
   "metadata": {},
   "outputs": [
    {
     "name": "stdout",
     "output_type": "stream",
     "text": [
      "[1 2 3 4]\n",
      "<class 'numpy.ndarray'>\n"
     ]
    }
   ],
   "source": [
    "x=np.array([1,2,3,4])\n",
    "print(x)\n",
    "print(type(x))"
   ]
  },
  {
   "cell_type": "code",
   "execution_count": 4,
   "id": "23519902",
   "metadata": {},
   "outputs": [
    {
     "name": "stdout",
     "output_type": "stream",
     "text": [
      "[1, 2, 3, 4]\n",
      "<class 'list'>\n"
     ]
    }
   ],
   "source": [
    "y=[1,2,3,4]\n",
    "print(y)\n",
    "print(type(y))"
   ]
  },
  {
   "cell_type": "markdown",
   "id": "0056d492",
   "metadata": {},
   "source": [
    "# 2nd class"
   ]
  },
  {
   "cell_type": "code",
   "execution_count": 6,
   "id": "0bbf0da0",
   "metadata": {},
   "outputs": [
    {
     "name": "stdout",
     "output_type": "stream",
     "text": [
      "4.16 µs ± 694 ns per loop (mean ± std. dev. of 7 runs, 100,000 loops each)\n"
     ]
    }
   ],
   "source": [
    "%timeit [j**4 for j in range(1,11)]"
   ]
  },
  {
   "cell_type": "code",
   "execution_count": 10,
   "id": "56ff96f4",
   "metadata": {},
   "outputs": [
    {
     "name": "stdout",
     "output_type": "stream",
     "text": [
      "2.67 µs ± 551 ns per loop (mean ± std. dev. of 7 runs, 100,000 loops each)\n"
     ]
    }
   ],
   "source": [
    "%timeit np.arange(1,11)**4"
   ]
  },
  {
   "cell_type": "markdown",
   "id": "f1be9225",
   "metadata": {},
   "source": [
    "# 3rd class"
   ]
  },
  {
   "cell_type": "markdown",
   "id": "42763816",
   "metadata": {},
   "source": [
    "# array"
   ]
  },
  {
   "cell_type": "code",
   "execution_count": 12,
   "id": "c299e2a1",
   "metadata": {},
   "outputs": [],
   "source": [
    "import numpy as np"
   ]
  },
  {
   "cell_type": "code",
   "execution_count": 21,
   "id": "efef3b7e",
   "metadata": {},
   "outputs": [
    {
     "name": "stdout",
     "output_type": "stream",
     "text": [
      "[1 2 3 4 5]\n",
      "<class 'numpy.ndarray'>\n",
      "1\n"
     ]
    }
   ],
   "source": [
    "x=[1,2,3,4]\n",
    "\n",
    "y=np.array([1,2,3,4,5])\n",
    "\n",
    "print(y)\n",
    "print(type(y))\n",
    "print(y.ndim)"
   ]
  },
  {
   "cell_type": "code",
   "execution_count": 20,
   "id": "9685fb4e",
   "metadata": {},
   "outputs": [
    {
     "name": "stdout",
     "output_type": "stream",
     "text": [
      "enter :1\n",
      "enter :2\n",
      "enter :3\n",
      "enter :4\n",
      "[1 2 3 4]\n"
     ]
    }
   ],
   "source": [
    "l=[]\n",
    "\n",
    "for i in range(1,5):\n",
    "    int_1=int(input(\"enter :\"))\n",
    "    l.append(int_1)\n",
    "    \n",
    "print(np.array(l))"
   ]
  },
  {
   "cell_type": "code",
   "execution_count": 24,
   "id": "a56b5d4e",
   "metadata": {},
   "outputs": [
    {
     "name": "stdout",
     "output_type": "stream",
     "text": [
      "[[  1   2   3]\n",
      " [582 145 652]]\n",
      "2\n"
     ]
    }
   ],
   "source": [
    "lst=np.array([[1,2,3],[582,145,652]])\n",
    "print(lst)\n",
    "print(lst.ndim)"
   ]
  },
  {
   "cell_type": "code",
   "execution_count": 25,
   "id": "289a6280",
   "metadata": {},
   "outputs": [
    {
     "name": "stdout",
     "output_type": "stream",
     "text": [
      "[[[1 2 3 4]\n",
      "  [1 2 3 4]\n",
      "  [1 2 3 4]]]\n",
      "3\n"
     ]
    }
   ],
   "source": [
    "ar3=np.array([[[1,2,3,4],[1,2,3,4],[1,2,3,4]]])\n",
    "print(ar3)\n",
    "print(ar3.ndim)"
   ]
  },
  {
   "cell_type": "code",
   "execution_count": 27,
   "id": "2e479213",
   "metadata": {},
   "outputs": [
    {
     "name": "stdout",
     "output_type": "stream",
     "text": [
      "[[[[[[[[[[1 2 3 4]]]]]]]]]]\n",
      "10\n"
     ]
    }
   ],
   "source": [
    "arn=np.array([1,2,3,4],ndmin=10)\n",
    "print(arn)\n",
    "print(arn.ndim)"
   ]
  },
  {
   "cell_type": "markdown",
   "id": "0205c068",
   "metadata": {},
   "source": [
    "# 4 th class"
   ]
  },
  {
   "cell_type": "markdown",
   "id": "9920b8d2",
   "metadata": {},
   "source": [
    " zeros"
   ]
  },
  {
   "cell_type": "code",
   "execution_count": 30,
   "id": "bae30a31",
   "metadata": {},
   "outputs": [],
   "source": [
    "import numpy as np"
   ]
  },
  {
   "cell_type": "code",
   "execution_count": 33,
   "id": "1485c3de",
   "metadata": {},
   "outputs": [
    {
     "name": "stdout",
     "output_type": "stream",
     "text": [
      "[0. 0. 0. 0.]\n",
      "\n",
      "[[0. 0. 0. 0.]\n",
      " [0. 0. 0. 0.]\n",
      " [0. 0. 0. 0.]]\n"
     ]
    }
   ],
   "source": [
    "ar_zero=np.zeros(4)\n",
    "ar_zero1=np.zeros((3,4))\n",
    "print(ar_zero)\n",
    "print()\n",
    "print(ar_zero1)"
   ]
  },
  {
   "cell_type": "code",
   "execution_count": 34,
   "id": "269f4883",
   "metadata": {},
   "outputs": [],
   "source": [
    "# Ones"
   ]
  },
  {
   "cell_type": "code",
   "execution_count": 35,
   "id": "611fce92",
   "metadata": {},
   "outputs": [
    {
     "name": "stdout",
     "output_type": "stream",
     "text": [
      "[1. 1. 1. 1.]\n"
     ]
    }
   ],
   "source": [
    "ar_one=np.ones(4)\n",
    "print(ar_one)"
   ]
  },
  {
   "cell_type": "code",
   "execution_count": 36,
   "id": "ef8aa14d",
   "metadata": {},
   "outputs": [],
   "source": [
    "#Empty"
   ]
  },
  {
   "cell_type": "code",
   "execution_count": 37,
   "id": "26f500a6",
   "metadata": {},
   "outputs": [
    {
     "name": "stdout",
     "output_type": "stream",
     "text": [
      "[1. 1. 1. 1.]\n"
     ]
    }
   ],
   "source": [
    "ar_em=np.empty(4)\n",
    "print(ar_em)"
   ]
  },
  {
   "cell_type": "code",
   "execution_count": 38,
   "id": "6ad2f95c",
   "metadata": {},
   "outputs": [],
   "source": [
    "#Range"
   ]
  },
  {
   "cell_type": "code",
   "execution_count": 39,
   "id": "46ffce72",
   "metadata": {},
   "outputs": [
    {
     "name": "stdout",
     "output_type": "stream",
     "text": [
      "[0 1 2 3]\n"
     ]
    }
   ],
   "source": [
    "ar_rn=np.arange(4)\n",
    "print(ar_rn)"
   ]
  },
  {
   "cell_type": "markdown",
   "id": "9fabfa6b",
   "metadata": {},
   "source": [
    "# Diagonal element"
   ]
  },
  {
   "cell_type": "code",
   "execution_count": 41,
   "id": "9086a343",
   "metadata": {},
   "outputs": [
    {
     "name": "stdout",
     "output_type": "stream",
     "text": [
      "[[1. 0. 0.]\n",
      " [0. 1. 0.]\n",
      " [0. 0. 1.]]\n"
     ]
    }
   ],
   "source": [
    "ar_dia=np.eye(3)\n",
    "print(ar_dia)"
   ]
  },
  {
   "cell_type": "code",
   "execution_count": 43,
   "id": "895e0af9",
   "metadata": {},
   "outputs": [
    {
     "name": "stdout",
     "output_type": "stream",
     "text": [
      "[[1. 0. 0. 0. 0.]\n",
      " [0. 1. 0. 0. 0.]\n",
      " [0. 0. 1. 0. 0.]]\n"
     ]
    }
   ],
   "source": [
    "ar_dia=np.eye(3,5)\n",
    "print(ar_dia)"
   ]
  },
  {
   "cell_type": "markdown",
   "id": "8566e880",
   "metadata": {},
   "source": [
    "# Linspace"
   ]
  },
  {
   "cell_type": "code",
   "execution_count": 50,
   "id": "2beda529",
   "metadata": {},
   "outputs": [
    {
     "name": "stdout",
     "output_type": "stream",
     "text": [
      "[ 0.  5. 10. 15. 20.]\n"
     ]
    }
   ],
   "source": [
    "ar_lin=np.linspace(0,20,num=5)\n",
    "print(ar_lin)"
   ]
  },
  {
   "cell_type": "markdown",
   "id": "a5c9269d",
   "metadata": {},
   "source": [
    "# 5 th class"
   ]
  },
  {
   "cell_type": "markdown",
   "id": "d4a86ade",
   "metadata": {},
   "source": [
    "# Random"
   ]
  },
  {
   "cell_type": "markdown",
   "id": "c9a1dd62",
   "metadata": {},
   "source": [
    "## Rand()"
   ]
  },
  {
   "cell_type": "code",
   "execution_count": 1,
   "id": "dbeaf0ed",
   "metadata": {},
   "outputs": [],
   "source": [
    "import numpy as np"
   ]
  },
  {
   "cell_type": "code",
   "execution_count": 2,
   "id": "931fcfe3",
   "metadata": {},
   "outputs": [
    {
     "name": "stdout",
     "output_type": "stream",
     "text": [
      "[0.1735856  0.84718329 0.10810053 0.7761385 ]\n"
     ]
    }
   ],
   "source": [
    "var=np.random.rand(4)\n",
    "print(var)"
   ]
  },
  {
   "cell_type": "code",
   "execution_count": 4,
   "id": "86f1f27f",
   "metadata": {},
   "outputs": [
    {
     "name": "stdout",
     "output_type": "stream",
     "text": [
      "[[0.99178012 0.26789512 0.97367364 0.54341804 0.78021273]\n",
      " [0.97005814 0.76226037 0.55705752 0.13370024 0.01368596]]\n"
     ]
    }
   ],
   "source": [
    "var1=np.random.rand(2,5)\n",
    "print(var1)"
   ]
  },
  {
   "cell_type": "markdown",
   "id": "a201abba",
   "metadata": {},
   "source": [
    "# randn"
   ]
  },
  {
   "cell_type": "code",
   "execution_count": 5,
   "id": "b66e33b5",
   "metadata": {},
   "outputs": [
    {
     "name": "stdout",
     "output_type": "stream",
     "text": [
      "[ 0.15309706  0.43890868  0.16821463  1.17492154 -0.11599063]\n"
     ]
    }
   ],
   "source": [
    "var2=np.random.randn(5)\n",
    "print(var2)"
   ]
  },
  {
   "cell_type": "markdown",
   "id": "644a4513",
   "metadata": {},
   "source": [
    "# ranf"
   ]
  },
  {
   "cell_type": "code",
   "execution_count": 6,
   "id": "7059f1e4",
   "metadata": {},
   "outputs": [
    {
     "name": "stdout",
     "output_type": "stream",
     "text": [
      "[0.81889614 0.25120194 0.31105217 0.36565273]\n"
     ]
    }
   ],
   "source": [
    "var3=np.random.ranf(4)\n",
    "print(var3)"
   ]
  },
  {
   "cell_type": "markdown",
   "id": "1ff00f89",
   "metadata": {},
   "source": [
    "# randint"
   ]
  },
  {
   "cell_type": "code",
   "execution_count": 8,
   "id": "71a01f9e",
   "metadata": {},
   "outputs": [
    {
     "name": "stdout",
     "output_type": "stream",
     "text": [
      "[ 7  6 17 12  8]\n"
     ]
    }
   ],
   "source": [
    "var4=np.random.randint(5,20,5)\n",
    "print(var4)"
   ]
  },
  {
   "cell_type": "markdown",
   "id": "66d04bd7",
   "metadata": {},
   "source": [
    "# 6th class"
   ]
  },
  {
   "cell_type": "markdown",
   "id": "5c5c7149",
   "metadata": {},
   "source": [
    "# Data types in  Numpy Arrays"
   ]
  },
  {
   "cell_type": "code",
   "execution_count": 9,
   "id": "29a6f163",
   "metadata": {},
   "outputs": [],
   "source": [
    "import numpy as np"
   ]
  },
  {
   "cell_type": "code",
   "execution_count": 14,
   "id": "9e1487ca",
   "metadata": {},
   "outputs": [
    {
     "name": "stdout",
     "output_type": "stream",
     "text": [
      "Data Type :  int32\n"
     ]
    }
   ],
   "source": [
    "var=np.array([1,2,3,4])\n",
    "print('Data Type : ',var.dtype)"
   ]
  },
  {
   "cell_type": "code",
   "execution_count": null,
   "id": "68b4e97e",
   "metadata": {},
   "outputs": [],
   "source": []
  },
  {
   "cell_type": "code",
   "execution_count": 15,
   "id": "620d2aa7",
   "metadata": {},
   "outputs": [
    {
     "name": "stdout",
     "output_type": "stream",
     "text": [
      "Data Type :  float64\n"
     ]
    }
   ],
   "source": [
    "var=np.array([1.0,20.25,52.25,62.2])\n",
    "print('Data Type : ',var.dtype)"
   ]
  },
  {
   "cell_type": "code",
   "execution_count": 16,
   "id": "5b626169",
   "metadata": {},
   "outputs": [
    {
     "name": "stdout",
     "output_type": "stream",
     "text": [
      "Data Type :  <U1\n"
     ]
    }
   ],
   "source": [
    "var=np.array([\"a\",\"d\",\"g\"])\n",
    "print('Data Type : ',var.dtype)"
   ]
  },
  {
   "cell_type": "code",
   "execution_count": 17,
   "id": "70cb95c3",
   "metadata": {},
   "outputs": [
    {
     "name": "stdout",
     "output_type": "stream",
     "text": [
      "Data Type :  <U11\n"
     ]
    }
   ],
   "source": [
    "var=np.array([\"a\",\"d\",\"g\",1,2,3,4])\n",
    "print('Data Type : ',var.dtype)"
   ]
  },
  {
   "cell_type": "code",
   "execution_count": null,
   "id": "505aed2d",
   "metadata": {},
   "outputs": [],
   "source": []
  },
  {
   "cell_type": "markdown",
   "id": "80910f71",
   "metadata": {},
   "source": [
    "# Type casting"
   ]
  },
  {
   "cell_type": "code",
   "execution_count": 21,
   "id": "d75aa471",
   "metadata": {},
   "outputs": [
    {
     "name": "stdout",
     "output_type": "stream",
     "text": [
      "Data Type :  int64\n",
      "[1 2 3 4]\n"
     ]
    }
   ],
   "source": [
    "x=np.array([1,2,3,4],dtype=np.int64)\n",
    "\n",
    "print('Data Type : ',x.dtype)\n",
    "print(x)"
   ]
  },
  {
   "cell_type": "code",
   "execution_count": 22,
   "id": "e5f04d6b",
   "metadata": {},
   "outputs": [
    {
     "name": "stdout",
     "output_type": "stream",
     "text": [
      "Data Type :  float32\n",
      "[1. 2. 3. 4.]\n"
     ]
    }
   ],
   "source": [
    "x1=np.array([1,2,3,4],dtype=\"f\")\n",
    "\n",
    "print('Data Type : ',x1.dtype)\n",
    "print(x1)"
   ]
  },
  {
   "cell_type": "code",
   "execution_count": 23,
   "id": "d05fe70c",
   "metadata": {},
   "outputs": [
    {
     "name": "stdout",
     "output_type": "stream",
     "text": [
      "Data Type :  int32\n",
      "Data Typr : float32\n",
      "[1 2 3 4]\n",
      "[1. 2. 3. 4.]\n"
     ]
    }
   ],
   "source": [
    "x2=np.array([1,2,3,4])\n",
    "\n",
    "new=np.float32(x2)\n",
    "\n",
    "print('Data Type : ',x2.dtype)\n",
    "print(\"Data Typr :\",new.dtype)\n",
    "print(x2)\n",
    "print(new)"
   ]
  },
  {
   "cell_type": "code",
   "execution_count": 24,
   "id": "b4a4e85d",
   "metadata": {},
   "outputs": [
    {
     "name": "stdout",
     "output_type": "stream",
     "text": [
      "Data Type :  int32\n",
      "Data Typr : float32\n",
      "Data Typr : int32\n",
      "[1 2 3 4]\n",
      "[1. 2. 3. 4.]\n",
      "[1 2 3 4]\n"
     ]
    }
   ],
   "source": [
    "x2=np.array([1,2,3,4])\n",
    "\n",
    "new=np.float32(x2)\n",
    "\n",
    "new_one=np.int_(new)\n",
    "\n",
    "print('Data Type : ',x2.dtype)\n",
    "print(\"Data Typr :\",new.dtype)\n",
    "print(\"Data Typr :\",new_one.dtype)\n",
    "print(x2)\n",
    "print(new)\n",
    "print(new_one)"
   ]
  },
  {
   "cell_type": "code",
   "execution_count": 26,
   "id": "69eb3b3d",
   "metadata": {},
   "outputs": [
    {
     "name": "stdout",
     "output_type": "stream",
     "text": [
      "[1 2 3 4]\n",
      "[1.+0.j 2.+0.j 3.+0.j 4.+0.j]\n"
     ]
    }
   ],
   "source": [
    "x3=np.array([1,2,3,4])\n",
    "\n",
    "new_1=x3.astype(complex)\n",
    "print(x3)\n",
    "print(new_1)"
   ]
  },
  {
   "cell_type": "markdown",
   "id": "09eb3fa0",
   "metadata": {},
   "source": [
    "# 7th class"
   ]
  },
  {
   "cell_type": "markdown",
   "id": "af6f2f27",
   "metadata": {},
   "source": [
    "# Arithmetic Operation"
   ]
  },
  {
   "cell_type": "code",
   "execution_count": 27,
   "id": "34d4213a",
   "metadata": {},
   "outputs": [],
   "source": [
    "import numpy as np"
   ]
  },
  {
   "cell_type": "code",
   "execution_count": 28,
   "id": "231514d0",
   "metadata": {},
   "outputs": [
    {
     "name": "stdout",
     "output_type": "stream",
     "text": [
      "[4 5 6 7]\n"
     ]
    }
   ],
   "source": [
    "var=np.array([1,2,3,4])\n",
    "varadd=var+3\n",
    "print(varadd)"
   ]
  },
  {
   "cell_type": "code",
   "execution_count": 29,
   "id": "999b1ebb",
   "metadata": {},
   "outputs": [
    {
     "name": "stdout",
     "output_type": "stream",
     "text": [
      "[2 4 6 8]\n"
     ]
    }
   ],
   "source": [
    "var1=np.array([1,2,3,4])\n",
    "var2=np.array([1,2,3,4])\n",
    "varadd=var1+var2\n",
    "print(varadd)"
   ]
  },
  {
   "cell_type": "code",
   "execution_count": 30,
   "id": "2f10a67a",
   "metadata": {},
   "outputs": [
    {
     "name": "stdout",
     "output_type": "stream",
     "text": [
      "[-2 -1  0  1]\n"
     ]
    }
   ],
   "source": [
    "var=np.array([1,2,3,4])\n",
    "varadd=var-3\n",
    "print(varadd)"
   ]
  },
  {
   "cell_type": "code",
   "execution_count": 33,
   "id": "ae72127f",
   "metadata": {},
   "outputs": [
    {
     "name": "stdout",
     "output_type": "stream",
     "text": [
      "[0.33333333 0.66666667 1.         1.33333333]\n"
     ]
    }
   ],
   "source": [
    "var=np.array([1,2,3,4])\n",
    "varadd=var/3\n",
    "print(varadd)"
   ]
  },
  {
   "cell_type": "code",
   "execution_count": 34,
   "id": "c0ab7629",
   "metadata": {},
   "outputs": [
    {
     "name": "stdout",
     "output_type": "stream",
     "text": [
      "[1 2 0 1]\n"
     ]
    }
   ],
   "source": [
    "var=np.array([1,2,3,4])\n",
    "varadd=var % 3\n",
    "print(varadd)"
   ]
  },
  {
   "cell_type": "code",
   "execution_count": 35,
   "id": "58e5cee2",
   "metadata": {},
   "outputs": [
    {
     "name": "stdout",
     "output_type": "stream",
     "text": [
      "[ 1  8 27 64]\n"
     ]
    }
   ],
   "source": [
    "var=np.array([1,2,3,4])\n",
    "varadd=var ** 3\n",
    "print(varadd)"
   ]
  },
  {
   "cell_type": "code",
   "execution_count": 39,
   "id": "1eccf297",
   "metadata": {},
   "outputs": [
    {
     "name": "stdout",
     "output_type": "stream",
     "text": [
      "[ 1  8 27 64]\n"
     ]
    }
   ],
   "source": [
    "var1=np.array([1,2,3,4])\n",
    "var2=np.array([1,2,3,4])\n",
    "\n",
    "varadd=np.power(var1,3)\n",
    "\n",
    "print(varadd)"
   ]
  },
  {
   "cell_type": "code",
   "execution_count": 40,
   "id": "cb8863f9",
   "metadata": {},
   "outputs": [
    {
     "name": "stdout",
     "output_type": "stream",
     "text": [
      "[4 5 6 7]\n"
     ]
    }
   ],
   "source": [
    "var1=np.array([1,2,3,4])\n",
    "var2=np.array([1,2,3,4])\n",
    "\n",
    "varadd=np.add(var1,3)\n",
    "\n",
    "print(varadd)"
   ]
  },
  {
   "cell_type": "markdown",
   "id": "90709bbd",
   "metadata": {},
   "source": [
    "# 2D array"
   ]
  },
  {
   "cell_type": "code",
   "execution_count": 44,
   "id": "ad8827be",
   "metadata": {},
   "outputs": [
    {
     "name": "stdout",
     "output_type": "stream",
     "text": [
      "[[1 2 3 4]\n",
      " [1 2 3 4]]\n",
      "\n",
      "[[1 2 3 4]\n",
      " [1 2 3 4]]\n",
      "\n",
      "[[2 4 6 8]\n",
      " [2 4 6 8]]\n"
     ]
    }
   ],
   "source": [
    "var21=np.array([[1,2,3,4],[1,2,3,4]])\n",
    "var22=np.array([[1,2,3,4],[1,2,3,4]])\n",
    "\n",
    "print(var21)\n",
    "print()\n",
    "print(var22)\n",
    "print()\n",
    "\n",
    "varadd=var21 + var22\n",
    "print(varadd)"
   ]
  },
  {
   "cell_type": "code",
   "execution_count": 45,
   "id": "05678dad",
   "metadata": {},
   "outputs": [
    {
     "name": "stdout",
     "output_type": "stream",
     "text": [
      "[1 0 0 0]\n"
     ]
    }
   ],
   "source": [
    "var=np.array([1,2,3,4])\n",
    "varadd=np.reciprocal(var)\n",
    "print(varadd)"
   ]
  },
  {
   "cell_type": "markdown",
   "id": "433e9a9a",
   "metadata": {},
   "source": [
    "# 8 th class"
   ]
  },
  {
   "cell_type": "code",
   "execution_count": 1,
   "id": "55c16d76",
   "metadata": {},
   "outputs": [],
   "source": [
    "import numpy as np"
   ]
  },
  {
   "cell_type": "code",
   "execution_count": 5,
   "id": "d428f977",
   "metadata": {},
   "outputs": [
    {
     "name": "stdout",
     "output_type": "stream",
     "text": [
      "min :  1\n",
      "max :  8\n"
     ]
    }
   ],
   "source": [
    "var=np.array([5,8,5,1,2,3,4,5,4,3,2])\n",
    "print(\"min : \",np.min(var))\n",
    "print(\"max : \",np.max(var))"
   ]
  },
  {
   "cell_type": "code",
   "execution_count": 4,
   "id": "e84bcedf",
   "metadata": {},
   "outputs": [
    {
     "name": "stdout",
     "output_type": "stream",
     "text": [
      "min :  1 3\n",
      "max :  8 1\n"
     ]
    }
   ],
   "source": [
    "var=np.array([5,8,5,1,2,3,4,5,4,3,2])\n",
    "print(\"min : \",np.min(var),np.argmin(var))# argmin show the position on this element\n",
    "print(\"max : \",np.max(var),np.argmax(var))"
   ]
  },
  {
   "cell_type": "code",
   "execution_count": 8,
   "id": "f1a35099",
   "metadata": {},
   "outputs": [
    {
     "name": "stdout",
     "output_type": "stream",
     "text": [
      "min :  1 2\n",
      "max :  5 4\n",
      "sqrt : [2.         2.         1.         2.         2.23606798 1.73205081\n",
      " 1.41421356]\n"
     ]
    }
   ],
   "source": [
    "var=np.array([4,4,1,4,5,3,2])\n",
    "print(\"min : \",np.min(var),np.argmin(var))\n",
    "print(\"max : \",np.max(var),np.argmax(var))\n",
    "print(\"sqrt :\",np.sqrt(var))# it will show the sqrt root"
   ]
  },
  {
   "cell_type": "code",
   "execution_count": 3,
   "id": "2ba3f15b",
   "metadata": {},
   "outputs": [
    {
     "name": "stdout",
     "output_type": "stream",
     "text": [
      "[1 5]\n"
     ]
    }
   ],
   "source": [
    "var1=np.array([[2,1,3],[9,5,6]])\n",
    "\n",
    "print(np.min(var1,axis=1))"
   ]
  },
  {
   "cell_type": "code",
   "execution_count": 6,
   "id": "f00f7816",
   "metadata": {},
   "outputs": [
    {
     "name": "stdout",
     "output_type": "stream",
     "text": [
      "[2 1 3]\n"
     ]
    }
   ],
   "source": [
    "var1=np.array([[2,1,3],[9,5,6]])\n",
    "\n",
    "print(np.min(var1,axis=0))"
   ]
  },
  {
   "cell_type": "code",
   "execution_count": 12,
   "id": "de320f01",
   "metadata": {},
   "outputs": [
    {
     "name": "stdout",
     "output_type": "stream",
     "text": [
      "[0.84147098 0.90929743 0.14112001]\n",
      "[ 0.54030231 -0.41614684 -0.9899925 ]\n",
      "[1 3 6]\n"
     ]
    }
   ],
   "source": [
    "var2=np.array([1,2,3])\n",
    "\n",
    "print(np.sin(var2))\n",
    "print(np.cos(var2))\n",
    "print(np.cumsum(var2)) # contioues addtion with last element"
   ]
  },
  {
   "cell_type": "code",
   "execution_count": 13,
   "id": "ce1cb1a7",
   "metadata": {},
   "outputs": [
    {
     "name": "stdout",
     "output_type": "stream",
     "text": [
      "[ 1  3  6 10]\n"
     ]
    }
   ],
   "source": [
    "var3=np.array([1,2,3,4])\n",
    "print(np.cumsum(var3))"
   ]
  },
  {
   "cell_type": "markdown",
   "id": "91a83b63",
   "metadata": {},
   "source": [
    "# 9th class"
   ]
  },
  {
   "cell_type": "markdown",
   "id": "8e382a2d",
   "metadata": {},
   "source": [
    "# Shape  "
   ]
  },
  {
   "cell_type": "code",
   "execution_count": 14,
   "id": "bfdfdb03",
   "metadata": {},
   "outputs": [],
   "source": [
    "import numpy as np"
   ]
  },
  {
   "cell_type": "code",
   "execution_count": 20,
   "id": "eb07209d",
   "metadata": {},
   "outputs": [
    {
     "name": "stdout",
     "output_type": "stream",
     "text": [
      "[[1 2 1 7]\n",
      " [1 4 8 2]]\n",
      "\n",
      "(2, 4)\n"
     ]
    }
   ],
   "source": [
    "var=np.array([[1,2,1,7],[1,4,8,2]])\n",
    "\n",
    "print(var)\n",
    "print()\n",
    "print(var.shape)"
   ]
  },
  {
   "cell_type": "code",
   "execution_count": 18,
   "id": "edc23884",
   "metadata": {},
   "outputs": [
    {
     "name": "stdout",
     "output_type": "stream",
     "text": [
      "[[[[1 2 3 4]]]]\n",
      "4\n",
      "\n",
      "(1, 1, 1, 4)\n"
     ]
    }
   ],
   "source": [
    "var1=np.array([1,2,3,4],ndmin=4)\n",
    "\n",
    "\n",
    "print(var1)\n",
    "print(var1.ndim)\n",
    "print()\n",
    "print(var1.shape)"
   ]
  },
  {
   "cell_type": "markdown",
   "id": "79d0788c",
   "metadata": {},
   "source": [
    "# Reshaping"
   ]
  },
  {
   "cell_type": "code",
   "execution_count": 33,
   "id": "6d480152",
   "metadata": {},
   "outputs": [
    {
     "name": "stdout",
     "output_type": "stream",
     "text": [
      "[1 2 3 4 5 6 1 2 3]\n",
      "1\n",
      "[[1 2 3]\n",
      " [4 5 6]\n",
      " [1 2 3]]\n",
      "2\n"
     ]
    }
   ],
   "source": [
    "var2=np.array([1,2,3,4,5,6,1,2,3])\n",
    "print(var2)\n",
    "print(var2.ndim)\n",
    "\n",
    "x=var2.reshape(3,3)\n",
    "print(x)\n",
    "print(x.ndim)"
   ]
  },
  {
   "cell_type": "code",
   "execution_count": 35,
   "id": "5bf31fb2",
   "metadata": {},
   "outputs": [
    {
     "name": "stdout",
     "output_type": "stream",
     "text": [
      "[ 1  2  3  4  5  6  7  8  9 10 11 12]\n",
      "1\n",
      "[[[ 1  2]\n",
      "  [ 3  4]\n",
      "  [ 5  6]]\n",
      "\n",
      " [[ 7  8]\n",
      "  [ 9 10]\n",
      "  [11 12]]]\n",
      "3\n"
     ]
    }
   ],
   "source": [
    "var3=np.array([1,2,3,4,5,6,7,8,9,10,11,12])\n",
    "print(var3)\n",
    "print(var3.ndim)\n",
    "\n",
    "x=var3.reshape(2,3,2)\n",
    "print(x)\n",
    "print(x.ndim)"
   ]
  },
  {
   "cell_type": "code",
   "execution_count": 36,
   "id": "31169137",
   "metadata": {},
   "outputs": [
    {
     "name": "stdout",
     "output_type": "stream",
     "text": [
      "[ 1  2  3  4  5  6  7  8  9 10 11 12]\n",
      "1\n",
      "[[[ 1  2]\n",
      "  [ 3  4]\n",
      "  [ 5  6]]\n",
      "\n",
      " [[ 7  8]\n",
      "  [ 9 10]\n",
      "  [11 12]]]\n",
      "3\n",
      "\n",
      "[ 1  2  3  4  5  6  7  8  9 10 11 12]\n",
      "1\n"
     ]
    }
   ],
   "source": [
    "var3=np.array([1,2,3,4,5,6,7,8,9,10,11,12])\n",
    "print(var3)\n",
    "print(var3.ndim)\n",
    "\n",
    "x1=var3.reshape(2,3,2)\n",
    "print(x1)\n",
    "print(x1.ndim)\n",
    "\n",
    "print()\n",
    "\n",
    "one=x1.reshape(-1)\n",
    "print(one)\n",
    "print(one.ndim)"
   ]
  },
  {
   "cell_type": "markdown",
   "id": "099ec0f1",
   "metadata": {},
   "source": [
    "# 10th class"
   ]
  },
  {
   "cell_type": "markdown",
   "id": "b8701645",
   "metadata": {},
   "source": [
    "# Broadcasting"
   ]
  },
  {
   "cell_type": "code",
   "execution_count": 2,
   "id": "6ad6b148",
   "metadata": {},
   "outputs": [],
   "source": [
    "import numpy as np"
   ]
  },
  {
   "cell_type": "code",
   "execution_count": 3,
   "id": "d52fc0b0",
   "metadata": {},
   "outputs": [],
   "source": [
    "# broadcasting array some privation both variable dimension is same"
   ]
  },
  {
   "cell_type": "code",
   "execution_count": 4,
   "id": "c73fcc4f",
   "metadata": {},
   "outputs": [
    {
     "name": "stdout",
     "output_type": "stream",
     "text": [
      "[2 4 6 8]\n"
     ]
    }
   ],
   "source": [
    "var1=np.array([1,2,3,4]) # both variable is same element other wise show error\n",
    "var2=np.array([1,2,3,4])\n",
    "print(var1 + var2)"
   ]
  },
  {
   "cell_type": "code",
   "execution_count": 10,
   "id": "258e440f",
   "metadata": {},
   "outputs": [
    {
     "name": "stdout",
     "output_type": "stream",
     "text": [
      "(3,)\n",
      "\n",
      "[1 2 3]\n",
      "\n",
      "(3, 1)\n",
      "\n",
      "[[1]\n",
      " [2]\n",
      " [3]]\n",
      "\n",
      "[[2 3 4]\n",
      " [3 4 5]\n",
      " [4 5 6]]\n"
     ]
    }
   ],
   "source": [
    "var1=np.array([1,2,3])\n",
    "print(var1.shape)\n",
    "print()\n",
    "print(var1)\n",
    "print()\n",
    "\n",
    "\n",
    "var2=np.array([[1],[2],[3]])\n",
    "print(var2.shape)\n",
    "print()\n",
    "print(var2)\n",
    "print()\n",
    "\n",
    "print(var1+var2)"
   ]
  },
  {
   "cell_type": "code",
   "execution_count": 13,
   "id": "bed91484",
   "metadata": {},
   "outputs": [
    {
     "name": "stdout",
     "output_type": "stream",
     "text": [
      "(2, 1)\n",
      "(2, 3)\n",
      "[[2 3 4]\n",
      " [3 4 5]]\n"
     ]
    }
   ],
   "source": [
    "x=np.array([[1],[2]])\n",
    "print(x.shape)\n",
    "\n",
    "y=np.array([[1,2,3],[1,2,3]])\n",
    "print(y.shape)\n",
    "\n",
    "\n",
    "print(x+y)"
   ]
  },
  {
   "cell_type": "markdown",
   "id": "1d3a19af",
   "metadata": {},
   "source": [
    "# 11th class"
   ]
  },
  {
   "cell_type": "markdown",
   "id": "e60eda5f",
   "metadata": {},
   "source": [
    "# Indexing"
   ]
  },
  {
   "cell_type": "code",
   "execution_count": 14,
   "id": "0ec1dcaa",
   "metadata": {},
   "outputs": [],
   "source": [
    "  import numpy as np"
   ]
  },
  {
   "cell_type": "code",
   "execution_count": 17,
   "id": "ab6a421c",
   "metadata": {},
   "outputs": [
    {
     "name": "stdout",
     "output_type": "stream",
     "text": [
      "8\n",
      "7\n"
     ]
    }
   ],
   "source": [
    "var=np.array([9,8,7,6])\n",
    "print(var[1])\n",
    "print(var[-2])"
   ]
  },
  {
   "cell_type": "code",
   "execution_count": 20,
   "id": "d235d7e4",
   "metadata": {},
   "outputs": [
    {
     "name": "stdout",
     "output_type": "stream",
     "text": [
      "[[9 8 7]\n",
      " [4 5 6]]\n",
      "2\n",
      "\n",
      "7\n"
     ]
    }
   ],
   "source": [
    "var1=np.array([[9,8,7],[4,5,6]])\n",
    "\n",
    "print(var1)\n",
    "print(var1.ndim)\n",
    "print()\n",
    "\n",
    "print(var1[0,2])"
   ]
  },
  {
   "cell_type": "code",
   "execution_count": 25,
   "id": "075de085",
   "metadata": {},
   "outputs": [
    {
     "name": "stdout",
     "output_type": "stream",
     "text": [
      "[[[1 2]\n",
      "  [6 7]]]\n",
      "3\n",
      "\n",
      "[6 7]\n"
     ]
    }
   ],
   "source": [
    "var2=np.array([[[1,2],[6,7]]])\n",
    "\n",
    "print(var2)\n",
    "print(var2.ndim)\n",
    "print()\n",
    "print(var2[0,1])"
   ]
  },
  {
   "cell_type": "markdown",
   "id": "0e014755",
   "metadata": {},
   "source": [
    "# Slicing"
   ]
  },
  {
   "cell_type": "code",
   "execution_count": 26,
   "id": "9d02f410",
   "metadata": {},
   "outputs": [],
   "source": [
    "import numpy as np"
   ]
  },
  {
   "cell_type": "code",
   "execution_count": 35,
   "id": "fd69d04f",
   "metadata": {},
   "outputs": [
    {
     "name": "stdout",
     "output_type": "stream",
     "text": [
      "[1 2 3 4 5 6 7]\n",
      "\n",
      "2 to 5 : [3 4 5]\n",
      "2 to end : [2 3 4 5 6 7]\n",
      "start to 5 : [1 2 3 4 5]\n",
      "stop : [2 4 6]\n"
     ]
    }
   ],
   "source": [
    "var=np.array([1,2,3,4,5,6,7])\n",
    "\n",
    "print(var)\n",
    "print()\n",
    "print(\"2 to 5 :\",var[2:5])\n",
    "\n",
    "\n",
    "print(\"2 to end :\",var[1:])\n",
    "\n",
    "print(\"start to 5 :\",var[:5])\n",
    "\n",
    "print(\"stop :\",var[1:6:2]) # stop"
   ]
  },
  {
   "cell_type": "code",
   "execution_count": 38,
   "id": "f2238ae1",
   "metadata": {},
   "outputs": [
    {
     "name": "stdout",
     "output_type": "stream",
     "text": [
      "[[ 1  2  3  4  5]\n",
      " [ 9  8  7  6  5]\n",
      " [11 12 13 14 15]]\n",
      "\n",
      "8 to 5 [8 7 6 5]\n",
      "12 to 15: [12 13 14 15]\n"
     ]
    }
   ],
   "source": [
    "var1=np.array([[1,2,3,4,5],[9,8,7,6,5],[11,12,13,14,15]])\n",
    "\n",
    "print(var1)\n",
    "print()\n",
    "print(\"8 to 5\",var1[1,1:])\n",
    "print(\"12 to 15:\",var1[2,1:])\n"
   ]
  },
  {
   "cell_type": "code",
   "execution_count": null,
   "id": "d8c905b3",
   "metadata": {},
   "outputs": [],
   "source": []
  }
 ],
 "metadata": {
  "kernelspec": {
   "display_name": "Python 3 (ipykernel)",
   "language": "python",
   "name": "python3"
  },
  "language_info": {
   "codemirror_mode": {
    "name": "ipython",
    "version": 3
   },
   "file_extension": ".py",
   "mimetype": "text/x-python",
   "name": "python",
   "nbconvert_exporter": "python",
   "pygments_lexer": "ipython3",
   "version": "3.10.9"
  }
 },
 "nbformat": 4,
 "nbformat_minor": 5
}
